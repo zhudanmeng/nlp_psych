{
  "cells": [
    {
      "cell_type": "code",
      "execution_count": null,
      "metadata": {
        "colab": {
          "base_uri": "https://localhost:8080/"
        },
        "id": "z-1hf3rTlNv-",
        "outputId": "9bf5c1f4-f725-42a8-daad-0fd53d9e35da"
      },
      "outputs": [
        {
          "output_type": "stream",
          "name": "stdout",
          "text": [
            "[nltk_data] Downloading package punkt to /root/nltk_data...\n",
            "[nltk_data]   Unzipping tokenizers/punkt.zip.\n"
          ]
        }
      ],
      "source": [
        "import pandas as pd\n",
        "import numpy as np\n",
        "import re\n",
        "from keras.preprocessing.text import Tokenizer\n",
        "from keras.preprocessing.sequence import pad_sequences\n",
        "from tensorflow.keras.utils import to_categorical\n",
        "from keras.models import load_model\n",
        "import urllib.request\n",
        "import zipfile\n",
        "import os\n",
        "from keras.models import Sequential\n",
        "from keras.layers import Embedding,Bidirectional,LSTM,GRU,Dense\n",
        "import nltk\n",
        "from nltk.tokenize import word_tokenize\n",
        "import warnings\n",
        "import tensorflow as tf\n",
        "nltk.download('punkt')\n",
        "warnings.filterwarnings('ignore')"
      ]
    },
    {
      "cell_type": "code",
      "execution_count": null,
      "metadata": {
        "id": "N7neJnkdlNwA"
      },
      "outputs": [],
      "source": [
        "df = pd.read_csv(\"combined.csv\")"
      ]
    },
    {
      "cell_type": "code",
      "execution_count": null,
      "metadata": {
        "id": "DIMZEz33lNwB"
      },
      "outputs": [],
      "source": [
        "#!/usr/bin/env python\n",
        "import re\n",
        "\n",
        "# get rid of emojis\n",
        "def deEmojify(text):\n",
        "    regrex_pattern = re.compile(pattern = \"[\"\n",
        "        u\"\\U0001F600-\\U0001F64F\"  # emoticons\n",
        "        u\"\\U0001F300-\\U0001F5FF\"  # symbols & pictographs\n",
        "        u\"\\U0001F680-\\U0001F6FF\"  # transport & map symbols\n",
        "        u\"\\U0001F1E0-\\U0001F1FF\"  # flags (iOS)\n",
        "                           \"]+\", flags = re.UNICODE)\n",
        "    return regrex_pattern.sub(r'',text)\n"
      ]
    },
    {
      "cell_type": "code",
      "execution_count": null,
      "metadata": {
        "id": "60xKCPKglNwB"
      },
      "outputs": [],
      "source": [
        "# loop through posts, delete emojis, any random codes, punctuation\n",
        "marks = '''!()-[]{};?@#$%:'\"\\,./^&*_\\n'''\n",
        "\n",
        "for _, row in df.iterrows():\n",
        "  row[\"post\"]= deEmojify(row[\"post\"])\n",
        "  row[\"post\"] = row[\"post\"].replace(\"&amp;#x200B;\", \"\")\n",
        "  \n",
        "  for char in row[\"post\"]:\n",
        "    if char in marks:\n",
        "      row[\"post\"] = row[\"post\"].replace(char, \"\")\n",
        "  "
      ]
    },
    {
      "cell_type": "code",
      "execution_count": null,
      "metadata": {
        "colab": {
          "base_uri": "https://localhost:8080/",
          "height": 466
        },
        "id": "nqTkUBhhlNwB",
        "outputId": "591ae747-2c3d-48c4-ebb3-6dabf6df4677"
      },
      "outputs": [
        {
          "output_type": "execute_result",
          "data": {
            "text/html": [
              "\n",
              "  <div id=\"df-ad2cfc43-6f40-4d90-b8cd-3b50f9b14545\">\n",
              "    <div class=\"colab-df-container\">\n",
              "      <div>\n",
              "<style scoped>\n",
              "    .dataframe tbody tr th:only-of-type {\n",
              "        vertical-align: middle;\n",
              "    }\n",
              "\n",
              "    .dataframe tbody tr th {\n",
              "        vertical-align: top;\n",
              "    }\n",
              "\n",
              "    .dataframe thead th {\n",
              "        text-align: right;\n",
              "    }\n",
              "</style>\n",
              "<table border=\"1\" class=\"dataframe\">\n",
              "  <thead>\n",
              "    <tr style=\"text-align: right;\">\n",
              "      <th></th>\n",
              "      <th>subreddit</th>\n",
              "      <th>post</th>\n",
              "    </tr>\n",
              "  </thead>\n",
              "  <tbody>\n",
              "    <tr>\n",
              "      <th>0</th>\n",
              "      <td>EDAnonymous</td>\n",
              "      <td>I ate slightly over maintenance tonight and even though I know that I purposefully did this because of my health I still want to die I feel like a fat fuck even though I have a BMI of ~21</td>\n",
              "    </tr>\n",
              "    <tr>\n",
              "      <th>1</th>\n",
              "      <td>EDAnonymous</td>\n",
              "      <td>How often do you guys have a bowel movement Ive been struggling with pretty intense onoff constipation for about 2+ months now but for the past three or so weeks Ive been extreeemeeelllyy constipated to the point where I can FEEL the poop in my body but just dont get the urge for it to come out So if I get scared enough  I end up using laxatives around the 57 day mark of not having a movement ...</td>\n",
              "    </tr>\n",
              "    <tr>\n",
              "      <th>2</th>\n",
              "      <td>EDAnonymous</td>\n",
              "      <td>DAE get mad at their stomach I was on the bus home from work and my stomach grumbled and cramped apparently unsatisfied with my daily offering of shredded carrots and a protein bar Im 90 sure the guy in the aisle across from me heard me mutter fuck you youve had enough OopsBut that got me thinking of how often I target anger towards my stomachhunger cues for having the absolute AUDACITY to ask...</td>\n",
              "    </tr>\n",
              "    <tr>\n",
              "      <th>3</th>\n",
              "      <td>EDAnonymous</td>\n",
              "      <td>I fucked up and purged for the first time This is bad I know purging is bad for me Ive read countless horror stories of purging going wrong and all of the ways it takes a toll on your body I still found myself sticking my fingers down my throat for an hour trying to make myself sick I moved onto a foreign object I dont wanna name it but if you know you know With tears streaming down my face sn...</td>\n",
              "    </tr>\n",
              "    <tr>\n",
              "      <th>4</th>\n",
              "      <td>EDAnonymous</td>\n",
              "      <td>Boyfriend prefers underweight girls and now I want to die My boyfriend and I were talking about my eating disorder relapse which led to me discussing how I want to look super underweight Right after that was brought up he was was like “I’m not into super underweight girls I’m into fit girls” so I decide to show him pictures of girls I use as thinspo amp girls that are fit He immediately takes ...</td>\n",
              "    </tr>\n",
              "    <tr>\n",
              "      <th>5</th>\n",
              "      <td>EDAnonymous</td>\n",
              "      <td>Just Discovered this Sub As the title says I just discovered this sub an hour ago after googling binge eating therapy redditI dont think I have an ED but I know have bad tendencies and cravings I though that reading the posts here would give me some context from the perspective of those with real strugglesAnd then I read one word that I had never heard before but I instantly knew the definitio...</td>\n",
              "    </tr>\n",
              "    <tr>\n",
              "      <th>6</th>\n",
              "      <td>EDAnonymous</td>\n",
              "      <td>Old coworker told me I look “healthier” She worked with me when I was at a lw and tried to get me to eat more back then when she noticed Today she came in and we were talking and she asked me about and and told me I don’t look at skinny and that I look healthier than I was Lolololololololololihatemyself And food But this is great motivation to get back on track</td>\n",
              "    </tr>\n",
              "    <tr>\n",
              "      <th>7</th>\n",
              "      <td>EDAnonymous</td>\n",
              "      <td>i am thoroughly drunk and got the courage to post here so hi friends hello guys i’ve been lurking and i seriously love this community i used to post a bit in proed before the whole debacle and i just wsnted to share that my friends and i got drunk on franzia and i ate a sushi roll and as of right now i only care a little that i’m chunky and not as much as normal</td>\n",
              "    </tr>\n",
              "  </tbody>\n",
              "</table>\n",
              "</div>\n",
              "      <button class=\"colab-df-convert\" onclick=\"convertToInteractive('df-ad2cfc43-6f40-4d90-b8cd-3b50f9b14545')\"\n",
              "              title=\"Convert this dataframe to an interactive table.\"\n",
              "              style=\"display:none;\">\n",
              "        \n",
              "  <svg xmlns=\"http://www.w3.org/2000/svg\" height=\"24px\"viewBox=\"0 0 24 24\"\n",
              "       width=\"24px\">\n",
              "    <path d=\"M0 0h24v24H0V0z\" fill=\"none\"/>\n",
              "    <path d=\"M18.56 5.44l.94 2.06.94-2.06 2.06-.94-2.06-.94-.94-2.06-.94 2.06-2.06.94zm-11 1L8.5 8.5l.94-2.06 2.06-.94-2.06-.94L8.5 2.5l-.94 2.06-2.06.94zm10 10l.94 2.06.94-2.06 2.06-.94-2.06-.94-.94-2.06-.94 2.06-2.06.94z\"/><path d=\"M17.41 7.96l-1.37-1.37c-.4-.4-.92-.59-1.43-.59-.52 0-1.04.2-1.43.59L10.3 9.45l-7.72 7.72c-.78.78-.78 2.05 0 2.83L4 21.41c.39.39.9.59 1.41.59.51 0 1.02-.2 1.41-.59l7.78-7.78 2.81-2.81c.8-.78.8-2.07 0-2.86zM5.41 20L4 18.59l7.72-7.72 1.47 1.35L5.41 20z\"/>\n",
              "  </svg>\n",
              "      </button>\n",
              "      \n",
              "  <style>\n",
              "    .colab-df-container {\n",
              "      display:flex;\n",
              "      flex-wrap:wrap;\n",
              "      gap: 12px;\n",
              "    }\n",
              "\n",
              "    .colab-df-convert {\n",
              "      background-color: #E8F0FE;\n",
              "      border: none;\n",
              "      border-radius: 50%;\n",
              "      cursor: pointer;\n",
              "      display: none;\n",
              "      fill: #1967D2;\n",
              "      height: 32px;\n",
              "      padding: 0 0 0 0;\n",
              "      width: 32px;\n",
              "    }\n",
              "\n",
              "    .colab-df-convert:hover {\n",
              "      background-color: #E2EBFA;\n",
              "      box-shadow: 0px 1px 2px rgba(60, 64, 67, 0.3), 0px 1px 3px 1px rgba(60, 64, 67, 0.15);\n",
              "      fill: #174EA6;\n",
              "    }\n",
              "\n",
              "    [theme=dark] .colab-df-convert {\n",
              "      background-color: #3B4455;\n",
              "      fill: #D2E3FC;\n",
              "    }\n",
              "\n",
              "    [theme=dark] .colab-df-convert:hover {\n",
              "      background-color: #434B5C;\n",
              "      box-shadow: 0px 1px 3px 1px rgba(0, 0, 0, 0.15);\n",
              "      filter: drop-shadow(0px 1px 2px rgba(0, 0, 0, 0.3));\n",
              "      fill: #FFFFFF;\n",
              "    }\n",
              "  </style>\n",
              "\n",
              "      <script>\n",
              "        const buttonEl =\n",
              "          document.querySelector('#df-ad2cfc43-6f40-4d90-b8cd-3b50f9b14545 button.colab-df-convert');\n",
              "        buttonEl.style.display =\n",
              "          google.colab.kernel.accessAllowed ? 'block' : 'none';\n",
              "\n",
              "        async function convertToInteractive(key) {\n",
              "          const element = document.querySelector('#df-ad2cfc43-6f40-4d90-b8cd-3b50f9b14545');\n",
              "          const dataTable =\n",
              "            await google.colab.kernel.invokeFunction('convertToInteractive',\n",
              "                                                     [key], {});\n",
              "          if (!dataTable) return;\n",
              "\n",
              "          const docLinkHtml = 'Like what you see? Visit the ' +\n",
              "            '<a target=\"_blank\" href=https://colab.research.google.com/notebooks/data_table.ipynb>data table notebook</a>'\n",
              "            + ' to learn more about interactive tables.';\n",
              "          element.innerHTML = '';\n",
              "          dataTable['output_type'] = 'display_data';\n",
              "          await google.colab.output.renderOutput(dataTable, element);\n",
              "          const docLink = document.createElement('div');\n",
              "          docLink.innerHTML = docLinkHtml;\n",
              "          element.appendChild(docLink);\n",
              "        }\n",
              "      </script>\n",
              "    </div>\n",
              "  </div>\n",
              "  "
            ],
            "text/plain": [
              "     subreddit                                                                                                                                                                                                                                                                                                                                                                                                             post\n",
              "0  EDAnonymous                                                                                                                                                                                                                      I ate slightly over maintenance tonight and even though I know that I purposefully did this because of my health I still want to die I feel like a fat fuck even though I have a BMI of ~21\n",
              "1  EDAnonymous  How often do you guys have a bowel movement Ive been struggling with pretty intense onoff constipation for about 2+ months now but for the past three or so weeks Ive been extreeemeeelllyy constipated to the point where I can FEEL the poop in my body but just dont get the urge for it to come out So if I get scared enough  I end up using laxatives around the 57 day mark of not having a movement ...\n",
              "2  EDAnonymous  DAE get mad at their stomach I was on the bus home from work and my stomach grumbled and cramped apparently unsatisfied with my daily offering of shredded carrots and a protein bar Im 90 sure the guy in the aisle across from me heard me mutter fuck you youve had enough OopsBut that got me thinking of how often I target anger towards my stomachhunger cues for having the absolute AUDACITY to ask...\n",
              "3  EDAnonymous  I fucked up and purged for the first time This is bad I know purging is bad for me Ive read countless horror stories of purging going wrong and all of the ways it takes a toll on your body I still found myself sticking my fingers down my throat for an hour trying to make myself sick I moved onto a foreign object I dont wanna name it but if you know you know With tears streaming down my face sn...\n",
              "4  EDAnonymous  Boyfriend prefers underweight girls and now I want to die My boyfriend and I were talking about my eating disorder relapse which led to me discussing how I want to look super underweight Right after that was brought up he was was like “I’m not into super underweight girls I’m into fit girls” so I decide to show him pictures of girls I use as thinspo amp girls that are fit He immediately takes ...\n",
              "5  EDAnonymous  Just Discovered this Sub As the title says I just discovered this sub an hour ago after googling binge eating therapy redditI dont think I have an ED but I know have bad tendencies and cravings I though that reading the posts here would give me some context from the perspective of those with real strugglesAnd then I read one word that I had never heard before but I instantly knew the definitio...\n",
              "6  EDAnonymous                                     Old coworker told me I look “healthier” She worked with me when I was at a lw and tried to get me to eat more back then when she noticed Today she came in and we were talking and she asked me about and and told me I don’t look at skinny and that I look healthier than I was Lolololololololololihatemyself And food But this is great motivation to get back on track \n",
              "7  EDAnonymous                                     i am thoroughly drunk and got the courage to post here so hi friends hello guys i’ve been lurking and i seriously love this community i used to post a bit in proed before the whole debacle and i just wsnted to share that my friends and i got drunk on franzia and i ate a sushi roll and as of right now i only care a little that i’m chunky and not as much as normal"
            ]
          },
          "metadata": {},
          "execution_count": 12
        }
      ],
      "source": [
        "pd.set_option('display.max_colwidth', 400)\n",
        "df.head(8)"
      ]
    },
    {
      "cell_type": "code",
      "source": [
        "df = df.sample(frac=1)"
      ],
      "metadata": {
        "id": "aU5FJyzHlnN0"
      },
      "execution_count": null,
      "outputs": []
    },
    {
      "cell_type": "code",
      "execution_count": null,
      "metadata": {
        "id": "Vxc9RJNnlNwC"
      },
      "outputs": [],
      "source": [
        "x_train=[]\n",
        "y_train=[]\n",
        "\n",
        "for _, row in df.iterrows():\n",
        "    y_train.append(row[0].strip())\n",
        "    x_train.append(row[1])"
      ]
    },
    {
      "cell_type": "code",
      "execution_count": null,
      "metadata": {
        "id": "o3XFsHmBlNwC"
      },
      "outputs": [],
      "source": [
        "x_test = x_train[10000:]\n",
        "y_test = y_train[10000:]\n",
        "x_train = x_train[:10000]\n",
        "y_train = y_train[:10000]"
      ]
    },
    {
      "cell_type": "code",
      "execution_count": null,
      "metadata": {
        "id": "glpTtaS2lNwD"
      },
      "outputs": [],
      "source": [
        "data_train=pd.DataFrame({'Text':x_train,'Condition':y_train})\n",
        "data_test=pd.DataFrame({'Text':x_test,'Condition':y_test})\n",
        "data=data_train.append(data_test,ignore_index=True)"
      ]
    },
    {
      "cell_type": "code",
      "execution_count": null,
      "metadata": {
        "colab": {
          "base_uri": "https://localhost:8080/"
        },
        "id": "fUugIEWplNwD",
        "outputId": "37335b7c-88f0-4b9e-e629-960c5b67237a"
      },
      "outputs": [
        {
          "output_type": "execute_result",
          "data": {
            "text/plain": [
              "array(['EDAnonymous', 'depression', 'autism', 'bipolarreddit',\n",
              "       'alcoholism', 'schizophrenia', 'addiction', 'adhd', 'ptsd',\n",
              "       'subreddit'], dtype=object)"
            ]
          },
          "metadata": {},
          "execution_count": 17
        }
      ],
      "source": [
        "df[\"subreddit\"].unique()"
      ]
    },
    {
      "cell_type": "code",
      "execution_count": null,
      "metadata": {
        "id": "dF1L8RwAlNwD"
      },
      "outputs": [],
      "source": [
        "tokenizer=Tokenizer()\n",
        "tokenizer.fit_on_texts(texts)\n",
        "sequence_train=tokenizer.texts_to_sequences(texts_train)\n",
        "sequence_test=tokenizer.texts_to_sequences(texts_test)\n",
        "index_of_words=tokenizer.word_index\n",
        "vocab_size=len(index_of_words)+1"
      ]
    },
    {
      "cell_type": "code",
      "execution_count": null,
      "metadata": {
        "id": "pXmCYMy-lNwE"
      },
      "outputs": [],
      "source": [
        "num_classes=10\n",
        "embed_num_dims=300\n",
        "max_seq_len=500\n",
        "class_names=['EDAnonymous','subreddit','addiction','adhd','alcoholism','autism','bipolarreddit','depression','ptsd','schizophrenia']\n",
        "X_train_pad=pad_sequences(sequence_train,maxlen=max_seq_len)\n",
        "X_test_pad=pad_sequences(sequence_test,maxlen=max_seq_len)\n",
        "encoding={'EDAnonymous':0,'subreddit':1,'addiction':2,'adhd':3,'alcoholism':4,'autism':5,'bipolarreddit':6,'depression':7,'ptsd':8,'schizophrenia':9}\n",
        "y_train=[encoding[x] for x in data_train.Condition]\n",
        "y_test=[encoding[x] for x in data_test.Condition]\n",
        "y_train=to_categorical(y_train)\n",
        "y_test=to_categorical(y_test)"
      ]
    },
    {
      "cell_type": "code",
      "execution_count": null,
      "metadata": {
        "id": "Z8zXWP4TlNwE"
      },
      "outputs": [],
      "source": [
        "def create_embedding_matrix(filepath,word_index,embedding_dim):\n",
        "    vocab_size=len(word_index)+1\n",
        "    embedding_matrix=np.zeros((vocab_size,embedding_dim))\n",
        "    with open(filepath, encoding=\"utf8\") as f:\n",
        "        for line in f:\n",
        "            word,*vector=line.split()\n",
        "            if word in word_index:\n",
        "                idx=word_index[word]\n",
        "                embedding_matrix[idx] = np.array(vector,dtype=np.float32)[:embedding_dim]\n",
        "    return embedding_matrix\n",
        "\n",
        "fname='wiki-news-300d-1M.vec'\n",
        "embedd_matrix=create_embedding_matrix(fname,index_of_words,embed_num_dims)"
      ]
    },
    {
      "cell_type": "code",
      "execution_count": null,
      "metadata": {
        "id": "DnZufPjGlNwE"
      },
      "outputs": [],
      "source": [
        "embedd_layer=Embedding(vocab_size,embed_num_dims,input_length=max_seq_len,weights=[embedd_matrix],trainable=False)\n",
        "gru_output_size=128\n",
        "bidirectional=True\n",
        "model=Sequential()\n",
        "model.add(embedd_layer)\n",
        "model.add(Bidirectional(GRU(units=gru_output_size,dropout=0.2,recurrent_dropout=0.2)))\n",
        "model.add(Dense(num_classes, activation='softmax'))\n",
        "model.compile(loss='categorical_crossentropy',optimizer='adam',metrics=['accuracy'])"
      ]
    },
    {
      "cell_type": "code",
      "execution_count": null,
      "metadata": {
        "id": "JBEbU-YHlNwE"
      },
      "outputs": [],
      "source": [
        "batch_size=128\n",
        "epochs=8\n",
        "hist=model.fit(X_train_pad,y_train,batch_size=batch_size,epochs=epochs,validation_data=(X_test_pad,y_test))"
      ]
    },
    {
      "cell_type": "code",
      "execution_count": null,
      "metadata": {
        "id": "pGAAo19-lNwM",
        "outputId": "0e8c7f4c-ba43-435f-a3ec-20a5e6c69fd5"
      },
      "outputs": [
        {
          "name": "stdout",
          "output_type": "stream",
          "text": [
            "Message:['I used to be so thin and then I moved country and Im almost back to square 1 again  2017  January I weighed in at 65kg2017  August I weighed in at 55kg2018  January I weighed in at 60kg2018  September I weighed in at 59kg2019  February I dont weigh myself but I just took a nude for my boyfriend and Im gonna hazard a guess that Im 65kg Im so sad about it I am so so so mad at myself My goal was 52kg I was SO CLOSE Slow and steady ha Wins the race I guess Today I ran 12km and did weights Tomorrow Im going to do my 500kcal workout it probably doesnt burn that much but it certainly gets my heart rate going and its a lot of bodyweight exercises which helps Yesterday I consumed 512 kcal today 921kcalGod I hate myself so much']\n",
            "Emotion: adhd\n"
          ]
        }
      ],
      "source": [
        "message=['I used to be so thin and then I moved country and Im almost back to square 1 again  2017  January I weighed in at 65kg2017  August I weighed in at 55kg2018  January I weighed in at 60kg2018  September I weighed in at 59kg2019  February I dont weigh myself but I just took a nude for my boyfriend and Im gonna hazard a guess that Im 65kg Im so sad about it I am so so so mad at myself My goal was 52kg I was SO CLOSE Slow and steady ha Wins the race I guess Today I ran 12km and did weights Tomorrow Im going to do my 500kcal workout it probably doesnt burn that much but it certainly gets my heart rate going and its a lot of bodyweight exercises which helps Yesterday I consumed 512 kcal today 921kcalGod I hate myself so much']\n",
        "seq=tokenizer.texts_to_sequences(message)\n",
        "padded=pad_sequences(seq,maxlen=max_seq_len)\n",
        "pred=model.predict(padded)\n",
        "print('Message:'+str(message))\n",
        "print('Emotion:',class_names[np.argmax(pred)])"
      ]
    }
  ],
  "metadata": {
    "instance_type": "ml.g4dn.xlarge",
    "kernelspec": {
      "display_name": "Python 3 (Data Science)",
      "language": "python",
      "name": "python3__SAGEMAKER_INTERNAL__arn:aws:sagemaker:us-east-2:429704687514:image/datascience-1.0"
    },
    "language_info": {
      "codemirror_mode": {
        "name": "ipython",
        "version": 3
      },
      "file_extension": ".py",
      "mimetype": "text/x-python",
      "name": "python",
      "nbconvert_exporter": "python",
      "pygments_lexer": "ipython3",
      "version": "3.7.10"
    },
    "colab": {
      "name": "model.ipynb",
      "provenance": []
    }
  },
  "nbformat": 4,
  "nbformat_minor": 0
}